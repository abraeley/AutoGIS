{
 "cells": [
  {
   "cell_type": "code",
   "execution_count": 1,
   "metadata": {},
   "outputs": [],
   "source": [
    "import GIS_Tools as gis\n",
    "import numpy as np\n",
    "#- Importing the GIS_Tools script and numpy"
   ]
  },
  {
   "cell_type": "code",
   "execution_count": 2,
   "metadata": {},
   "outputs": [],
   "source": [
    "dataset = np.loadtxt('HelsinkiData.txt',dtype=str,delimiter=';',usecols=(5,6,7,8),unpack=True)\n",
    "#- loading the 5th-8th columns of data (x and y coordinates for the starting and ending points)"
   ]
  },
  {
   "cell_type": "code",
   "execution_count": 3,
   "metadata": {},
   "outputs": [
    {
     "data": {
      "text/plain": [
       "array([['from_x', '24.9704379', '24.9704379', ..., '24.9704379',\n",
       "        '24.9704379', '24.9704379'],\n",
       "       ['from_y', '60.3119173', '60.3119173', ..., '60.3119173',\n",
       "        '60.3119173', '60.3119173'],\n",
       "       ['to_x', '24.8560344', '24.8605682', ..., '24.5553668',\n",
       "        '24.5598683', '24.5555336'],\n",
       "       ['to_y', '60.399940599999994', '60.4000135', ..., '60.1724281',\n",
       "        '60.1725111', '60.170185399999994']], dtype='<U18')"
      ]
     },
     "execution_count": 3,
     "metadata": {},
     "output_type": "execute_result"
    }
   ],
   "source": [
    "dataset"
   ]
  },
  {
   "cell_type": "code",
   "execution_count": 4,
   "metadata": {},
   "outputs": [],
   "source": [
    "def createLines(data):\n",
    "    ''' This function takes raw data of coordinates (x and y) for starting and ending\n",
    "        points and transforms them into an array of lines. The data argument in the\n",
    "        function needs to be a list of four things: data[0] = starting_X, data[1] =\n",
    "        starting_Y, data[2] = ending_X, and data[3] = ending_Y.'''\n",
    "    \n",
    "    orig_pointsTemp = []\n",
    "    dest_pointsTemp = []\n",
    "    for row in range(1,len(data[0])):\n",
    "        orig_pointsTemp.append([data[0][row],data[1][row]])\n",
    "        dest_pointsTemp.append([data[2][row],data[3][row]])\n",
    "    #- This initializes the starting and ending point tempory arrays for memory.\n",
    "    #- The for loop iterates through the arrays of the two points and places each\n",
    "    #- row into the memory-objects as their own array (e.g. orig_pointsTemp becomes\n",
    "    #- a list of lists).\n",
    "        \n",
    "    orig_points = []\n",
    "    dest_points = []\n",
    "    for point in orig_pointsTemp:\n",
    "        orig_points.append(gis.createPointGeom(float(point[0]),float(point[1])))\n",
    "    for point in dest_pointsTemp:\n",
    "        dest_points.append(gis.createPointGeom(float(point[0]),float(point[1])))\n",
    "    #- These loops iterate through the temporary memory arrays, takes each set of\n",
    "    #- coordinates, and creates a geographic Point object out of each - which is \n",
    "    #- then appended into a new list.\n",
    "        \n",
    "    lines = []    \n",
    "    for i in range(len(data[0])-1):\n",
    "        lines.append(gis.createLineGeom([orig_points[i],dest_points[i]]))\n",
    "    #- This loop iterates through the two arrays of Point objects and turns them\n",
    "    #- into a Line object.\n",
    "\n",
    "    distances = []\n",
    "    for line in lines:\n",
    "        distances.append(gis.getLength(line))\n",
    "    #- This creates an array of Line object lengths.\n",
    "    \n",
    "    print(\"The average distance between two points on each line is: \", np.mean(distances))\n",
    "        \n",
    "    return lines"
   ]
  },
  {
   "cell_type": "code",
   "execution_count": 5,
   "metadata": {},
   "outputs": [
    {
     "name": "stdout",
     "output_type": "stream",
     "text": [
      "The average distance between two points on each line is:  0.21502224823227248\n"
     ]
    },
    {
     "data": {
      "image/svg+xml": [
       "<svg xmlns=\"http://www.w3.org/2000/svg\" xmlns:xlink=\"http://www.w3.org/1999/xlink\" width=\"100.0\" height=\"100.0\" viewBox=\"24.851458259999998 60.30734116 0.12355578000000378 0.09717557999999116\" preserveAspectRatio=\"xMinYMin meet\"><g transform=\"matrix(1,0,0,-1,0,120.71185789999998)\"><polyline fill=\"none\" stroke=\"#66cc99\" stroke-width=\"0.0024711156000000755\" points=\"24.9704379,60.3119173 24.8560344,60.399940599999994\" opacity=\"0.8\" /></g></svg>"
      ],
      "text/plain": [
       "<shapely.geometry.linestring.LineString at 0x7f844830e400>"
      ]
     },
     "execution_count": 5,
     "metadata": {},
     "output_type": "execute_result"
    }
   ],
   "source": [
    "createLines(dataset)[0]"
   ]
  },
  {
   "cell_type": "code",
   "execution_count": null,
   "metadata": {},
   "outputs": [],
   "source": []
  }
 ],
 "metadata": {
  "kernelspec": {
   "display_name": "Python 3",
   "language": "python",
   "name": "python3"
  },
  "language_info": {
   "codemirror_mode": {
    "name": "ipython",
    "version": 3
   },
   "file_extension": ".py",
   "mimetype": "text/x-python",
   "name": "python",
   "nbconvert_exporter": "python",
   "pygments_lexer": "ipython3",
   "version": "3.6.4"
  }
 },
 "nbformat": 4,
 "nbformat_minor": 2
}
