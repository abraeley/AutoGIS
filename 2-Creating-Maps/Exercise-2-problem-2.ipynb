{
 "cells": [
  {
   "cell_type": "markdown",
   "metadata": {},
   "source": [
    "## Problem 2: Points to map (6 points)\n",
    " \n",
    "The problem 2 this week continues the process that we started last week in Exercise 1, i.e. creating geometric point -objects and putting them into a map. \n",
    "\n",
    "**In this problem, our aim is to plot a map based on a set of x and y coordinates that are stored in a csv file.** \n",
    "The coordinates are in WGS84 decimal degrees, and the data is stored in `some_posts.csv` comma separated file in the folder `data`. First rows of the data look like this:\n",
    " \n",
    "```\n",
    "lat,lon,timestamp,userid\n",
    "-24.980792492,31.484633302,2015-07-07 03:02,66487960\n",
    "-25.499224667,31.508905612,2015-07-07 03:18,65281761\n",
    "-24.342578456,30.930866066,2015-03-07 03:38,90916112\n",
    "-24.85461393,31.519718439,2015-10-07 05:04,37959089\n",
    "```\n",
    "\n",
    "The data has 81379 rows and consists of locations and times of social media posts inside Kruger national park in South Africa:\n",
    "\n",
    "| Column | Description |\n",
    "|--------|-------------|\n",
    "| lat | y-coordinate of the post |\n",
    "| lon | x-coordinate of the post |\n",
    "| timestamp | Time when the post was uploaded |\n",
    "| userid | userid |\n",
    "\n",
    "*Note: although the data is based on real social media data, it is heavily anonymized. Userids and timestamps have been randomized, i.e. they do not not match with real ones, also spatial accuracy of the data have been lowered.*\n",
    "\n",
    "**First:**\n",
    "\n",
    "- Import the needed modules\n",
    "- Read the data from `data/some_posts.csv` into a Pandas dataframe called `data`\n",
    "- Create an empty column called `geometry` where you will store shapely Point objects\n",
    "- Insert Point objects into the column `geometry` based on the coordinate columns \n",
    "    - You might want to iterate over the dataframe rows, and use `.loc` indexer to update value of the correct column in each row. [See more tips from this week's course materials](https://automating-gis-processes.github.io/2018/docs/lessons/L2/geopandas-basics.html#creating-geometries-into-a-geodataframe)\n",
    "    - *Note: if this step is taking a long time to run, you can first try out your code with a subset of the original data, eg. taking the first 50 rows of data `data[:50]`. Once the code works correctly, you can then run the process for the whole dataframe.*\n",
    "    - Optional: you can also try to solve this problem using ``pandas.DataFrame.apply`` or the ``zip()`` -function (these approaches will be much faster than using a ``for``-loop and ``.iterrows()``.\n",
    "\n",
    "\n",
    "\n",
    "\n",
    "\n",
    "\n",
    "\n"
   ]
  },
  {
   "cell_type": "code",
   "execution_count": 1,
   "metadata": {
    "deletable": false,
    "nbgrader": {
     "checksum": "9e7309739640cd9435b4d08c5e194bd9",
     "grade": false,
     "grade_id": "Create_points",
     "locked": false,
     "schema_version": 1,
     "solution": true
    }
   },
   "outputs": [],
   "source": [
    "import geopandas as gpd\n",
    "import pandas as pd\n",
    "import pycrs\n",
    "from shapely.geometry import Point, Polygon\n",
    "\n",
    "\n",
    "fp = \"data/some_posts.csv\"\n",
    "data = pd.read_csv(fp)"
   ]
  },
  {
   "cell_type": "code",
   "execution_count": 2,
   "metadata": {
    "deletable": false,
    "editable": false,
    "nbgrader": {
     "checksum": "e4939dcc6bde43b18e635709c20b431f",
     "grade": true,
     "grade_id": "Create_points_test",
     "locked": true,
     "points": 3,
     "schema_version": 1,
     "solution": false
    }
   },
   "outputs": [
    {
     "name": "stdout",
     "output_type": "stream",
     "text": [
      "         lat        lon         timestamp    userid\n",
      "0 -24.980792  31.484633  2015-07-07 03:02  66487960\n",
      "1 -25.499225  31.508906  2015-07-07 03:18  65281761\n",
      "2 -24.342578  30.930866  2015-03-07 03:38  90916112\n",
      "3 -24.854614  31.519718  2015-10-07 05:04  37959089\n",
      "4 -24.921069  31.520836  2015-10-07 05:19  27793716\n"
     ]
    }
   ],
   "source": [
    "# Check the dataframe head\n",
    "print(data.head())\n"
   ]
  },
  {
   "cell_type": "code",
   "execution_count": 3,
   "metadata": {},
   "outputs": [
    {
     "data": {
      "text/plain": [
       "-24.980792492"
      ]
     },
     "execution_count": 3,
     "metadata": {},
     "output_type": "execute_result"
    }
   ],
   "source": [
    "data['lat'][0]"
   ]
  },
  {
   "cell_type": "markdown",
   "metadata": {},
   "source": [
    "**Next:**\n",
    "- Convert that DataFrame into a GeoDataFrame, [See hints](https://automating-gis-processes.github.io/2018/lessons/L2/exercise-2.html)\n",
    "\n",
    "- Update the CRS for coordinate system as WGS84 (i.e. epsg code: 4326)\n",
    "\n",
    "- Save the data into a Shapefile called `Kruger_posts.shp`\n",
    "\n"
   ]
  },
  {
   "cell_type": "code",
   "execution_count": 39,
   "metadata": {
    "deletable": false,
    "nbgrader": {
     "checksum": "23395f0fbd59369a9f1e98f7ddd29d8a",
     "grade": false,
     "grade_id": "Create_geodataframe",
     "locked": false,
     "schema_version": 1,
     "solution": true
    }
   },
   "outputs": [
    {
     "name": "stdout",
     "output_type": "stream",
     "text": [
      "<class 'pandas.core.series.Series'>\n",
      "POINT (30.983844086 -25.498371054)\n"
     ]
    }
   ],
   "source": [
    "coordinates = []\n",
    "    \n",
    "for i in range(len(data)):\n",
    "    point = Point(data['lon'][i], data['lat'][i])\n",
    "    coordinates.append((point))\n",
    "    \n",
    "\n",
    "\n",
    "data['geometry'] = coordinates"
   ]
  },
  {
   "cell_type": "code",
   "execution_count": 40,
   "metadata": {},
   "outputs": [],
   "source": [
    "#- Converting into a GeoDataFrame\n",
    "geo = gpd.GeoDataFrame(data, geometry='geometry', crs={'init': 'epsg:4326'})"
   ]
  },
  {
   "cell_type": "code",
   "execution_count": 41,
   "metadata": {
    "deletable": false,
    "editable": false,
    "nbgrader": {
     "checksum": "85dc6b6117c752eda48939cc23311f49",
     "grade": true,
     "grade_id": "Create_geodataframe_test",
     "locked": true,
     "points": 2,
     "schema_version": 1,
     "solution": false
    }
   },
   "outputs": [
    {
     "name": "stdout",
     "output_type": "stream",
     "text": [
      "         lat        lon         timestamp    userid  \\\n",
      "0 -24.980792  31.484633  2015-07-07 03:02  66487960   \n",
      "1 -25.499225  31.508906  2015-07-07 03:18  65281761   \n",
      "2 -24.342578  30.930866  2015-03-07 03:38  90916112   \n",
      "3 -24.854614  31.519718  2015-10-07 05:04  37959089   \n",
      "4 -24.921069  31.520836  2015-10-07 05:19  27793716   \n",
      "\n",
      "                             geometry  \n",
      "0  POINT (31.484633302 -24.980792492)  \n",
      "1  POINT (31.508905612 -25.499224667)  \n",
      "2  POINT (30.930866066 -24.342578456)  \n",
      "3   POINT (31.519718439 -24.85461393)  \n",
      "4  POINT (31.520835558 -24.921068894)  \n"
     ]
    }
   ],
   "source": [
    "# Check the geodataframe head\n",
    "print(geo.head())\n"
   ]
  },
  {
   "cell_type": "code",
   "execution_count": 45,
   "metadata": {},
   "outputs": [],
   "source": [
    "outfp = 'Kruger_posts.shp'\n",
    "geo.to_file(outfp)\n",
    "\n",
    "data = gpd.read_file(outfp)"
   ]
  },
  {
   "cell_type": "markdown",
   "metadata": {},
   "source": [
    "**Finally:** \n",
    "- Create a simple map of the points (one of these is enough):\n",
    "    - Create the map using a the `.plot()` -function in Python. You might need to use the `matplotlib pyplot` `show()` method to display the image within this notebook. \n",
    "    - Create the map in a gis-software and upload the map as a png image to this repository (if you do this, remember to add a link to the image file to this notebook!)\n"
   ]
  },
  {
   "cell_type": "code",
   "execution_count": 46,
   "metadata": {
    "deletable": false,
    "nbgrader": {
     "checksum": "897787ba9fcd9836fbb746a814422770",
     "grade": false,
     "grade_id": "Plot_map",
     "locked": false,
     "schema_version": 1,
     "solution": true
    }
   },
   "outputs": [
    {
     "data": {
      "text/plain": [
       "<matplotlib.axes._subplots.AxesSubplot at 0x7f33232e0be0>"
      ]
     },
     "execution_count": 46,
     "metadata": {},
     "output_type": "execute_result"
    },
    {
     "data": {
      "image/png": "[encoded data removed]",
      "text/plain": [
       "<Figure size 432x288 with 1 Axes>"
      ]
     },
     "metadata": {},
     "output_type": "display_data"
    }
   ],
   "source": [
    "%matplotlib inline\n",
    "import matplotlib.pyplot as plt\n",
    "\n",
    "\n",
    "data.plot()"
   ]
  },
  {
   "cell_type": "code",
   "execution_count": null,
   "metadata": {
    "deletable": false,
    "nbgrader": {
     "checksum": "3d7f7cdc959fbc6a62723aaa75cfa79d",
     "grade": true,
     "grade_id": "Plot_map_check",
     "locked": false,
     "points": 1,
     "schema_version": 1,
     "solution": true
    }
   },
   "outputs": [],
   "source": []
  },
  {
   "cell_type": "markdown",
   "metadata": {},
   "source": [
    "Well done! Now you can move on to [Exercise-2-problem-3.ipynb](Exercise-2-problem-3.ipynb)"
   ]
  }
 ],
 "metadata": {
  "anaconda-cloud": {},
  "kernelspec": {
   "display_name": "Python 3",
   "language": "python",
   "name": "python3"
  },
  "language_info": {
   "codemirror_mode": {
    "name": "ipython",
    "version": 3
   },
   "file_extension": ".py",
   "mimetype": "text/x-python",
   "name": "python",
   "nbconvert_exporter": "python",
   "pygments_lexer": "ipython3",
   "version": "3.6.6"
  }
 },
 "nbformat": 4,
 "nbformat_minor": 2
}
